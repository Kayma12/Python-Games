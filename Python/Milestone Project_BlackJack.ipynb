{
 "cells": [
  {
   "cell_type": "code",
   "execution_count": 1,
   "metadata": {},
   "outputs": [],
   "source": [
    "import random\n",
    "from random import shuffle\n",
    "import numpy as np\n",
    "\n",
    "\n",
    "colors = ['diamonds', 'hearts', 'spades', 'clubs']\n",
    "jack = 10\n",
    "queen = 10\n",
    "king = 10      \n",
    "values = ['ace',2,3,4,5,6,7,8,9,10,jack,queen,king]\n",
    "\n",
    "#boolean for whether playing or not\n",
    "playing = True\n",
    "\n",
    "\n",
    "class Card():\n",
    "    \n",
    "    def __init__(self, value, color):\n",
    "        self.value = value\n",
    "        self.color = color\n",
    "    \n",
    "    def __str__(self):\n",
    "        \n",
    "        return str(self.value) + ' of ' + self.color\n",
    "\n",
    "\n",
    "#deck with a list comprehension \n",
    "\n",
    "class Deck():\n",
    "    def __init__(self):\n",
    "        self.deck = []\n",
    "        self.deck = ([(Card(value,color)) for value in values for color in colors])\n",
    "        \n",
    "    \n",
    "    def shuffle(self):\n",
    "        (random.shuffle(self.deck))\n",
    "    \n",
    "    def deal(self):\n",
    "        single_card = self.deck.pop()\n",
    "        return single_card\n",
    "        \n",
    "        \n",
    "        \n",
    "        \n",
    "    def __str__(self):\n",
    "        deck_comp = ''\n",
    "        for card in self.deck:\n",
    "            deck_comp += '\\n '+card.__str__()\n",
    "        return 'The deck has:' + deck_comp\n",
    "        #print (str(self.contents[0]))\n",
    "        "
   ]
  },
  {
   "cell_type": "code",
   "execution_count": 2,
   "metadata": {},
   "outputs": [],
   "source": [
    "deckOfCards = Deck()\n",
    "x = deckOfCards.deal()\n",
    "\n",
    "\n",
    "\n"
   ]
  },
  {
   "cell_type": "code",
   "execution_count": 3,
   "metadata": {},
   "outputs": [
    {
     "name": "stdout",
     "output_type": "stream",
     "text": [
      "10 of clubs\n"
     ]
    }
   ],
   "source": [
    "print(x)"
   ]
  },
  {
   "cell_type": "code",
   "execution_count": 4,
   "metadata": {
    "scrolled": true
   },
   "outputs": [
    {
     "name": "stdout",
     "output_type": "stream",
     "text": [
      "10 of spades\n"
     ]
    }
   ],
   "source": [
    "\n",
    "print(deckOfCards.deal())"
   ]
  },
  {
   "cell_type": "code",
   "execution_count": 5,
   "metadata": {},
   "outputs": [
    {
     "name": "stdout",
     "output_type": "stream",
     "text": [
      "hearts\n",
      "10\n"
     ]
    }
   ],
   "source": [
    "\n",
    "\n",
    "\n",
    "deckOfCards.shuffle()\n",
    "print(deckOfCards.deal().color)\n",
    "print(deckOfCards.deal().value)"
   ]
  },
  {
   "cell_type": "code",
   "execution_count": 23,
   "metadata": {},
   "outputs": [],
   "source": [
    "\n",
    "class Hand:\n",
    "    def __init__(self):\n",
    "        self.cards = []\n",
    "        self.value = 0\n",
    "        self.aces = 0\n",
    "    \n",
    "    def add_card(self,card):\n",
    "        if card.value == 'ace':\n",
    "            num = int(input('Please eneter a value for ace 1 or 11 '))\n",
    "            card.value = num\n",
    "        \n",
    "        self.cards.append(card)\n",
    "        self.value += int(card.value)\n",
    "        \n",
    "        \n",
    "        \n"
   ]
  },
  {
   "cell_type": "code",
   "execution_count": 7,
   "metadata": {},
   "outputs": [
    {
     "data": {
      "text/plain": [
       "11"
      ]
     },
     "execution_count": 7,
     "metadata": {},
     "output_type": "execute_result"
    }
   ],
   "source": [
    "\n",
    "\n",
    "test_deck = Deck()\n",
    "\n",
    "test_deck.shuffle()\n",
    "test_player = Hand()\n",
    "test_player.add_card(test_deck.deal())\n",
    "test_player.add_card(test_deck.deal())\n",
    "test_player.value"
   ]
  },
  {
   "cell_type": "code",
   "execution_count": 8,
   "metadata": {},
   "outputs": [],
   "source": [
    "#Creating a chips class for the amount of chips if a person win or lose the bet\n",
    "\n",
    "class Chips:\n",
    "    \n",
    "    def __init__(self):\n",
    "        self.total = 100\n",
    "        self.bet = 0\n",
    "    \n",
    "    def win_bet(self):\n",
    "        self.total += self.bet\n",
    "    \n",
    "    def lose_bet(self):\n",
    "        self.total -= self.bet\n",
    "        \n",
    "\n"
   ]
  },
  {
   "cell_type": "code",
   "execution_count": 32,
   "metadata": {},
   "outputs": [],
   "source": [
    "#A function to take bets\n",
    "\n",
    "def take_bet(chips):\n",
    "    \n",
    "    while True:\n",
    "        \n",
    "        \n",
    "        try:\n",
    "            \n",
    "            chips.bet = int(input('Please enter the amount you want to bet '))\n",
    "        except ValueError:\n",
    "            print ('Please enter a value that is an integer')\n",
    "        else:\n",
    "            \n",
    "            if chips.bet > chips.total:\n",
    "                print('please enter another amount, you do not have enough chips', chips.total)\n",
    "            else:\n",
    "                break\n",
    "            \n",
    "            \n",
    "    \n"
   ]
  },
  {
   "cell_type": "code",
   "execution_count": 18,
   "metadata": {},
   "outputs": [],
   "source": [
    "def hit(deck,hand):\n",
    "    #hits until bust, called when dealer hand is less than 17\n",
    "    \n",
    "    hand.add_card(deck.deal())\n",
    "    \n",
    "    \n",
    "    "
   ]
  },
  {
   "cell_type": "code",
   "execution_count": null,
   "metadata": {},
   "outputs": [],
   "source": [
    "#prompt the player to hit or stand\n",
    "\n",
    "def hit_or_stand(deck,hand):\n",
    "    \n",
    "    while global playing:\n",
    "        player_do = input('Do you want to Hit or Stand')\n",
    "        \n",
    "        if player_do.lower() == 'hit':\n",
    "            \n",
    "            hit(deck,hand)\n",
    "        elif player_do.lower() == 'stand':\n",
    "            print('Player stands, dealer is playing.')\n",
    "            playing = False\n",
    "        \n",
    "        else:\n",
    "            print('Sorry, please try again.')\n",
    "            continue\n",
    "        break\n",
    "        \n",
    "    \n",
    "    "
   ]
  },
  {
   "cell_type": "code",
   "execution_count": 20,
   "metadata": {},
   "outputs": [],
   "source": [
    "#Displaying cards\n",
    "\n",
    "def show_some(player,dealer):\n",
    "    print(\"\\nDealer's Hand:\")\n",
    "    print(\" <card hidden>\")\n",
    "    print('',dealer.cards[1])  \n",
    "    print(\"\\nPlayer's Hand:\", *player.cards, sep='\\n ')\n",
    "    \n",
    "def show_all(player,dealer):\n",
    "    print(\"\\nDealer's Hand:\", *dealer.cards, sep='\\n ')\n",
    "    print(\"Dealer's Hand =\",dealer.value)\n",
    "    print(\"\\nPlayer's Hand:\", *player.cards, sep='\\n ')\n",
    "    print(\"Player's Hand =\",player.value)\n",
    "    \n",
    "    "
   ]
  },
  {
   "cell_type": "code",
   "execution_count": 21,
   "metadata": {},
   "outputs": [],
   "source": [
    "#End of game scenarios:\n",
    "\n",
    "def player_busts(player,dealer,chips):\n",
    "    print('Player is bust')\n",
    "    chips.lose_bet()\n",
    "    \n",
    "def player_wins(player,dealer,chips):\n",
    "    print('Player wins')\n",
    "    chips.win_bet()\n",
    "    \n",
    "def dealer_bust():\n",
    "    print('Dealer busts!!')\n",
    "    dealer.lose_bet()\n",
    "\n",
    "def dealer_wins():\n",
    "    print('Dealer wins!!!')\n",
    "    dealer.win_bet()\n",
    "\n",
    "def push(player,dealer):\n",
    "    print(\"Dealer and Player tie! It's a push.\")\n"
   ]
  },
  {
   "cell_type": "code",
   "execution_count": null,
   "metadata": {},
   "outputs": [],
   "source": [
    "###################### The game   ###########################\n",
    "\n",
    "while True:\n",
    "    \n",
    "    print('Welcome to the Black Jack Game. If you want to win, get close to 21. Ace counts for 1 or 11)\n",
    "    \n",
    "    newDeck = Deck()\n",
    "    newDeck.shuffle()\n",
    "    \n",
    "    #Instantiate players\n",
    "    testplayer1 = Hand()\n",
    "    dealer = Hand()\n",
    "    \n",
    "    #Deal two cards each\n",
    "    testplayer1.add_card(newDeck.deal())\n",
    "    testplayer1.add_card(newDeck.deal())\n",
    "    \n",
    "    dealer.add_card(newDeck.deal())\n",
    "    dealer.add_card(newDeck.deal())\n",
    "    \n",
    "    #player's chips\n",
    "    \n",
    "    player_chips = Chips()\n",
    "    \n",
    "    #prompt player for bet\n",
    "    \n",
    "    take_bet(player_chips)\n",
    "    \n",
    "    show_some(testplayer1,dealer)\n",
    "    \n",
    "    while playing:\n",
    "        \n",
    "        hit_or_stand(newDeck,testplayer1)\n",
    "        \n",
    "        show_some(testplayer1,dealer)\n",
    "        \n",
    "        if testplayer1.value > 21:\n",
    "            player_busts(testplayer1,dealer,player_chips)\n",
    "            break\n",
    "    \n",
    "    \n",
    "    if testplayer1.value <= 21:\n",
    "        \n",
    "        while dealer.value < 17:\n",
    "            hit(deck,newDeck )\n",
    "            \n",
    "        show_all(testplayer1,dealer) \n",
    "        \n",
    "        #Winning scenarios\n",
    "        \n",
    "        if dealer.value > 21:\n",
    "            dealer_busts(testplayer1,dealer,player_chips)\n",
    "            \n",
    "        elif dealer.value > testplayer1.value :\n",
    "            dealer_wins(testplayer1,dealer,player_chips)\n",
    "        \n",
    "        elif dealer.value < testplayer1.value :\n",
    "            player_wins(testplayer1,dealer,player_chips)\n",
    "        \n",
    "        else:\n",
    "            push(testplayer1,dealer)\n",
    "    \n",
    "    # Inform Player of their chips total \n",
    "    print(\"\\nPlayer's winnings stand at\",player_chips.total)\n",
    "    \n",
    "    # Ask to play again\n",
    "    new_game = input(\"Would you like to play another hand? Enter 'y' or 'n' \")\n",
    "    \n",
    "    if new_game[0].lower()=='y':\n",
    "        playing=True\n",
    "        continue\n",
    "    else:\n",
    "        print(\"Thanks for playing!\")\n",
    "        break\n",
    "            \n",
    "             \n",
    "        \n",
    "\n",
    "\n",
    "\n"
   ]
  }
 ],
 "metadata": {
  "kernelspec": {
   "display_name": "Python 3",
   "language": "python",
   "name": "python3"
  },
  "language_info": {
   "codemirror_mode": {
    "name": "ipython",
    "version": 3
   },
   "file_extension": ".py",
   "mimetype": "text/x-python",
   "name": "python",
   "nbconvert_exporter": "python",
   "pygments_lexer": "ipython3",
   "version": "3.7.4"
  }
 },
 "nbformat": 4,
 "nbformat_minor": 2
}
